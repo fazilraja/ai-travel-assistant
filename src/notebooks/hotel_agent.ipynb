{
 "cells": [
  {
   "cell_type": "code",
   "execution_count": null,
   "metadata": {},
   "outputs": [
    {
     "name": "stdout",
     "output_type": "stream",
     "text": [
      "2025-06-18 23:14:53,584 - src.config.settings - INFO - Settings loaded with AMADEUS_CLIENT_ID: wGdG97v54buAoaFqckvjNpLeS9GxXU0O\n",
      "2025-06-18 23:14:53,585 - src.config.settings - INFO - Settings loaded with AMADEUS_HOST: test.api.amadeus.com\n",
      "2025-06-18 23:14:53,586 - src.services.hotel_service - INFO - Initializing Amadeus Hotel API service, client_id: wGdG97v54buAoaFqckvjNpLeS9GxXU0O, environment: test.api.amadeus.com\n",
      "<coroutine object process_hotel_query at 0x75dce1bcd9c0>\n"
     ]
    }
   ],
   "source": [
    "import sys\n",
    "import os\n",
    "import asyncio\n",
    "\n",
    "# Add the project root to Python path\n",
    "project_root = os.path.abspath(os.path.join(os.getcwd(), '../..'))\n",
    "if project_root not in sys.path:\n",
    "    sys.path.insert(0, project_root)\n",
    "\n",
    "from src.agents.hotel_agent import process_hotel_query\n",
    "\n",
    "query = \"I need a hotel in London for next week from Monday to Wednesday\"\n",
    "result = await process_hotel_query(query)\n",
    "print(result)\n"
   ]
  },
  {
   "cell_type": "code",
   "execution_count": null,
   "metadata": {},
   "outputs": [],
   "source": [
    "# Alternative solution using relative imports:\n",
    "# import sys\n",
    "# import os\n",
    "# sys.path.append(os.path.join(os.path.dirname(__file__), '..'))\n",
    "# from agents.hotel_agent import process_hotel_query\n"
   ]
  },
  {
   "cell_type": "code",
   "execution_count": 5,
   "metadata": {},
   "outputs": [
    {
     "name": "stdout",
     "output_type": "stream",
     "text": [
      "<coroutine object process_hotel_query at 0x75dce1bcdcf0>\n"
     ]
    },
    {
     "name": "stderr",
     "output_type": "stream",
     "text": [
      "/tmp/ipykernel_23301/1735132007.py:6: RuntimeWarning: coroutine 'process_hotel_query' was never awaited\n",
      "  result = process_hotel_query(query)\n",
      "RuntimeWarning: Enable tracemalloc to get the object allocation traceback\n"
     ]
    }
   ],
   "source": [
    "# Now that the package is installed, you can also use direct imports:\n",
    "import asyncio\n",
    "from src.agents.hotel_agent import process_hotel_query\n",
    "\n",
    "query = \"I need a luxury hotel in Paris for 3 nights starting next Friday\"\n",
    "result = process_hotel_query(query)\n",
    "print(result)\n"
   ]
  }
 ],
 "metadata": {
  "kernelspec": {
   "display_name": ".venv",
   "language": "python",
   "name": "python3"
  },
  "language_info": {
   "codemirror_mode": {
    "name": "ipython",
    "version": 3
   },
   "file_extension": ".py",
   "mimetype": "text/x-python",
   "name": "python",
   "nbconvert_exporter": "python",
   "pygments_lexer": "ipython3",
   "version": "3.11.12"
  }
 },
 "nbformat": 4,
 "nbformat_minor": 2
}
